{
 "cells": [
  {
   "cell_type": "markdown",
   "id": "03e7953b-d872-434d-8457-9b7a371fdf77",
   "metadata": {},
   "source": [
    "1. Write a program to accept percentage from the user and display the grade according to the following criteria"
   ]
  },
  {
   "cell_type": "code",
   "execution_count": null,
   "id": "f49247b0-2e69-4ab1-aa82-64fd50140567",
   "metadata": {},
   "outputs": [],
   "source": [
    "persent = int(input(\"Enter a persantage : \"))\n",
    "if persent > 90:\n",
    "    print(\"Grade is A\")\n",
    "elif persent > 80 and persent <= 90:\n",
    "    print(\"Grade is B\")  \n",
    "elif persent >= 60 and persent <= 80:\n",
    "    print(\"Grade is C\")  \n",
    "else:\n",
    "    print(\"Grade is D\") "
   ]
  },
  {
   "cell_type": "markdown",
   "id": "1b98148a-876b-413f-a854-aefb93be842e",
   "metadata": {},
   "source": [
    "2. Write a program to accept the cost price of a bike and display the road tax to be paid according to the\n",
    "\n",
    "following criteria:"
   ]
  },
  {
   "cell_type": "code",
   "execution_count": null,
   "id": "7f005469-5a17-4071-a2c3-da65ffa2ff70",
   "metadata": {},
   "outputs": [],
   "source": [
    "Cost = int(input(\"Enter the cost of the Bike : \"))\n",
    "if Cost > 100000:\n",
    "    print(\"Tax is 15%\")\n",
    "elif Cost >50000 and Cost <= 100000:\n",
    "    print(\"Tax is 10%\")   \n",
    "elif Cost <= 50000:\n",
    "    print(\"Tax is 5%\")        "
   ]
  },
  {
   "cell_type": "markdown",
   "id": "63496e8c-2f40-4e33-8a9c-3113b80a38c0",
   "metadata": {},
   "source": [
    "3. Accept any city from the user and display monuments of that city."
   ]
  },
  {
   "cell_type": "code",
   "execution_count": null,
   "id": "16f579c0-2d55-420b-a6da-2f7ee06030f3",
   "metadata": {},
   "outputs": [],
   "source": [
    "city = input(\"Enter a city : \")\n",
    "if city == 'Delhi':\n",
    "    print(\"Monument is Red Fort\")\n",
    "elif city == 'Agra':\n",
    "    print(\"Mounment is Taj Mahal\")\n",
    "elif city == 'Jaipur':\n",
    "    print(\"Monument is Jal Mahal \")       \n",
    "    "
   ]
  },
  {
   "cell_type": "markdown",
   "id": "e5b08b57-95da-4cbb-aae6-759b42bec065",
   "metadata": {},
   "source": [
    "4. Check how many times a given number can be divided by 3 before it is less than or equal to 10."
   ]
  },
  {
   "cell_type": "code",
   "execution_count": null,
   "id": "88852982-1dfd-439e-bd29-f11af1ad206f",
   "metadata": {},
   "outputs": [],
   "source": [
    "number = int(input(\"Enter a number: \"))\n",
    "count = 0\n",
    "\n",
    "while number > 10:\n",
    "    number = number / 3\n",
    "    count += 1\n",
    "\n",
    "print(\"The number can be divided by 3\", count, \"times before it is less than or equal to 10.\")"
   ]
  },
  {
   "cell_type": "markdown",
   "id": "9518848c-a3c8-4d7c-963d-84ec6c9b56f8",
   "metadata": {},
   "source": [
    "5. Why and When to Use while Loop in Python give a detailed description with example"
   ]
  },
  {
   "cell_type": "markdown",
   "id": "32909836-c8b1-4347-b631-fb68415c9fad",
   "metadata": {},
   "source": [
    "The while loop in Python is used when you need to repeat a block of code as long as a certain condition is met. It's used to perform an action repeatedly until a condition is met.\n",
    "\n",
    "The general structure of a while loop is as follows:\n",
    "Ex:- while condition:\n",
    "Here's an example of how you can use a while loop in Python to print the numbers 1 to 10:"
   ]
  },
  {
   "cell_type": "code",
   "execution_count": null,
   "id": "706ee335-b540-4b81-b87b-da423e969830",
   "metadata": {},
   "outputs": [],
   "source": [
    "#example\n",
    "i = 0\n",
    "while i <=8:\n",
    "    print(i)\n",
    "    i += 1"
   ]
  },
  {
   "cell_type": "markdown",
   "id": "f4080f65-6244-4947-8d36-33a6f3d0fc7e",
   "metadata": {},
   "source": [
    "6. Use nested while loop to print 3 different pattern"
   ]
  },
  {
   "cell_type": "code",
   "execution_count": null,
   "id": "c75b0832-8a4d-4a02-80a2-d2c2b006c01b",
   "metadata": {},
   "outputs": [],
   "source": [
    "#Example 1\n",
    "i = 1\n",
    "while i<=4:\n",
    "    print(\"*\"*i)\n",
    "    i = i + 1"
   ]
  },
  {
   "cell_type": "code",
   "execution_count": null,
   "id": "3ce767ee-3163-42f5-a9be-1eb417c684a6",
   "metadata": {},
   "outputs": [],
   "source": [
    "#Example 2\n",
    "i = 1\n",
    "while i<=4:\n",
    "    print(\" \" * (a-i-1), end=\" \")\n",
    "    print(\"*\" * (2*i+1), end=\" \")\n",
    "    print(\" \" * (n-i-1))\n",
    "    i = i + 1"
   ]
  },
  {
   "cell_type": "markdown",
   "id": "db33d948-4f00-45c4-8db1-9bd46f8ef9d6",
   "metadata": {},
   "source": [
    "7.Reverse a while loop to display numbers from 10 to 1"
   ]
  },
  {
   "cell_type": "code",
   "execution_count": null,
   "id": "d8f954d2-6c91-484f-b3ad-c495849ee052",
   "metadata": {},
   "outputs": [],
   "source": [
    "i = 0\n",
    "while i<=10:\n",
    "    print(10-i)\n",
    "    i = i + 1"
   ]
  }
 ],
 "metadata": {
  "kernelspec": {
   "display_name": "Python 3 (ipykernel)",
   "language": "python",
   "name": "python3"
  },
  "language_info": {
   "codemirror_mode": {
    "name": "ipython",
    "version": 3
   },
   "file_extension": ".py",
   "mimetype": "text/x-python",
   "name": "python",
   "nbconvert_exporter": "python",
   "pygments_lexer": "ipython3",
   "version": "3.10.8"
  }
 },
 "nbformat": 4,
 "nbformat_minor": 5
}
